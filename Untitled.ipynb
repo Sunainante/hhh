{
 "cells": [
  {
   "cell_type": "code",
   "execution_count": 1,
   "id": "039d94f8-aea4-4c0b-8a35-75ac99193f6e",
   "metadata": {
    "tags": []
   },
   "outputs": [
    {
     "name": "stdout",
     "output_type": "stream",
     "text": [
      "The concepts to be learned\n",
      "[['Sunny' 'Warm ' 'Normal' 'Strong' 'Warm' 'Same']\n",
      " ['Sunny' 'Warm ' 'High' 'Strong' 'Warm' 'Same']\n",
      " ['Rainy' 'Cool' 'High' 'Strong' 'Warm' 'Change']\n",
      " ['Sunny' 'Warm ' 'High' 'Strong' 'Cool' 'change']]\n",
      "\n",
      "Labels specific to the concepts\n",
      "\n",
      "['No' 'Yes' 'No' 'Yes']\n",
      "\n",
      "\n",
      "Final S:  ['Sunny' 'Warm ' '?' 'Strong' '?' '?']\n",
      "Final G:  [['Sunny', '?', '?', '?', '?', '?'], ['?', 'Warm ', '?', '?', '?', '?']]\n"
     ]
    }
   ],
   "source": [
    "import pandas as pd\n",
    "import numpy as np\n",
    "data = pd.read_csv('Training_examples.csv')\n",
    "concept = np.array(data)[:,:-1]\n",
    "print(\"The concepts to be learned\")\n",
    "print(concept)\n",
    "target = np.array(data)[:,-1]\n",
    "print(\"\\nLabels specific to the concepts\\n\")\n",
    "print(target)\n",
    "print(\"\\n\")\n",
    "\n",
    "def learn(concept,target):\n",
    "    specific_h = concept[0].copy()\n",
    "    general_h = [['?' for i in range(len(specific_h))] for i in range(len(specific_h))]\n",
    "    \n",
    "    for i,h in enumerate(concept):\n",
    "        if target[i] == 'Yes':\n",
    "            for j in range(len(specific_h)):\n",
    "                if h[j]!=specific_h[j]:\n",
    "                    specific_h[j] = '?'\n",
    "                    general_h[j][j] = '?'\n",
    "        elif target[i] == 'No':\n",
    "            for j in range(len(specific_h)):\n",
    "                if h[j]!=specific_h[j]:\n",
    "                    general_h[j][j] = specific_h[j]\n",
    "                else:\n",
    "                    general_h[j][j] = '?'\n",
    "                    \n",
    "    indices = [i for i,val in enumerate(general_h) if val==['?' for i in range(len(specific_h))]]\n",
    "    for i in indices:\n",
    "        general_h.remove(['?' for i in range(len(specific_h))])\n",
    "    return specific_h,general_h\n",
    "\n",
    "s_final, g_final = learn(concept,target)\n",
    "print(\"Final S: \", s_final)\n",
    "print(\"Final G: \", g_final)                                                                 "
   ]
  }
 ],
 "metadata": {
  "kernelspec": {
   "display_name": "Python 3 (ipykernel)",
   "language": "python",
   "name": "python3"
  },
  "language_info": {
   "codemirror_mode": {
    "name": "ipython",
    "version": 3
   },
   "file_extension": ".py",
   "mimetype": "text/x-python",
   "name": "python",
   "nbconvert_exporter": "python",
   "pygments_lexer": "ipython3",
   "version": "3.11.4"
  }
 },
 "nbformat": 4,
 "nbformat_minor": 5
}
